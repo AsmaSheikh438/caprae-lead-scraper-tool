{
 "cells": [
  {
   "cell_type": "markdown",
   "id": "2127c0c6",
   "metadata": {},
   "source": [
    "# Lead Scraper + Email Validator Tool\n",
    "\n",
    "This project simulates company data, checks if email addresses are valid, and saves the results to a CSV file.  \n",
    "It was built as part of the Caprae Capital AI Handbook Challenge.\n",
    "\n",
    "**Author:** Asma Sheikh  \n",
    "**Program:** PG Program in Data Science  \n",
    "**Intern:** Flip Robo Technology\n"
   ]
  },
  {
   "cell_type": "code",
   "execution_count": null,
   "id": "72b938f4",
   "metadata": {},
   "outputs": [],
   "source": [
    "import pandas as pd\n",
    "import re"
   ]
  },
  {
   "cell_type": "code",
   "execution_count": null,
   "id": "5621d5b0",
   "metadata": {},
   "outputs": [],
   "source": [
    "# Sample data as if scraped\n",
    "data = {\n",
    "    \"Company Name\": [\"Alpha Tech\", \"Beta Systems\", \"Gamma Solutions\"],\n",
    "    \"Website\": [\"https://alphatech.com\", \"https://betasystems.io\", \"https://gammasol.net\"],\n",
    "    \"Email\": [\"contact@alphatech.com\", \"info@betasystems\", \"sales@gammasol.net\"]\n",
    "}\n",
    "\n",
    "df = pd.DataFrame(data)\n",
    "df"
   ]
  },
  {
   "cell_type": "code",
   "execution_count": null,
   "id": "9b428fa4",
   "metadata": {},
   "outputs": [],
   "source": [
    "# Function to validate email format\n",
    "def is_valid_email(email):\n",
    "    pattern = r\"^[\\w\\.-]+@[\\w\\.-]+\\.\\w{2,}$\"\n",
    "    return re.match(pattern, email) is not None\n",
    "\n",
    "# Apply to email column\n",
    "df[\"Valid Email\"] = df[\"Email\"].apply(is_valid_email)\n",
    "df"
   ]
  },
  {
   "cell_type": "code",
   "execution_count": null,
   "id": "3b6ca0b6",
   "metadata": {},
   "outputs": [],
   "source": [
    "# Save to CSV\n",
    "df.to_csv(\"lead_generation_tool_output.csv\", index=False)\n",
    "print(\"CSV file saved successfully.\")"
   ]
  },
  {
   "cell_type": "markdown",
   "id": "030a9b65",
   "metadata": {},
   "source": [
    "## Conclusion\n",
    "\n",
    "This tool helps simulate the process of scraping lead data and validating emails.  \n",
    "It is useful for sales/marketing teams to avoid invalid contacts.  \n",
    "The final CSV file contains company name, website, email, and validity status.\n"
   ]
  }
 ],
 "metadata": {},
 "nbformat": 4,
 "nbformat_minor": 5
}